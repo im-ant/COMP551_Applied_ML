{
 "cells": [
  {
   "cell_type": "markdown",
   "metadata": {},
   "source": [
    "## Testing out the split criterias for decision tree"
   ]
  },
  {
   "cell_type": "code",
   "execution_count": 1,
   "metadata": {
    "collapsed": true
   },
   "outputs": [],
   "source": [
    "import numpy as np"
   ]
  },
  {
   "cell_type": "markdown",
   "metadata": {},
   "source": [
    "### Functions to compute quality"
   ]
  },
  {
   "cell_type": "code",
   "execution_count": 44,
   "metadata": {
    "collapsed": true
   },
   "outputs": [],
   "source": [
    "#### Gini index ####\n",
    "# Assume a flat vector\n",
    "def GiniIndex(node):\n",
    "    # Compute sum of all occurances\n",
    "    totNumElements = np.sum(node)\n",
    "    # Compute the sum over all classes\n",
    "    classSums = 0.0\n",
    "    for claNumElements in node:\n",
    "        classSums += (claNumElements / totNumElements) ** 2\n",
    "    # Return the gini index\n",
    "    return (1.0 - classSums)\n",
    "    \n",
    "    \n",
    "#### Entropy ####\n",
    "def Entropy(node):\n",
    "    # Compute sum of all occurances\n",
    "    totNumElements = np.sum(node)\n",
    "    # Compute the entropy sum over all classes\n",
    "    negEntropSum = 0.0\n",
    "    for numEle in node:\n",
    "        classFreq = numEle / totNumElements\n",
    "        negEntropSum += classFreq * np.log(classFreq)\n",
    "    # Return \n",
    "    return (-1.0) * negEntropSum\n",
    "\n",
    "## Get the split info\n",
    "def splitInfo(Nodes):\n",
    "    # Get the overall shape and number of elements\n",
    "    nodeShape = np.shape(Nodes)\n",
    "    totNumElements = np.sum(Nodes)\n",
    "    \n",
    "    negSplitInfo = 0.0\n",
    "    \n",
    "    # Iterate over each node\n",
    "    for nIdx in range(0,nodeShape[0]):\n",
    "        nodeFrac = np.sum(Nodes[nIdx,:]) / totNumElements\n",
    "        negSplitInfo += nodeFrac * np.log(nodeFrac)\n",
    "    \n",
    "    return (-1.0)*negSplitInfo\n",
    "    \n",
    "    \n",
    "\n",
    "\n",
    "#### Compute a weighted sum for some criteria over multiple nodes ####\n",
    "def WeightedNodesAvg(Nodes, Func):\n",
    "    # Get the overall shape and number of elements\n",
    "    nodeShape = np.shape(Nodes)\n",
    "    totNumElements = np.sum(Nodes)\n",
    "    \n",
    "    totalMetric = 0.0\n",
    "    \n",
    "    # Iterate over each node\n",
    "    for nIdx in range(0,nodeShape[0]):\n",
    "        # Number of elements in this node\n",
    "        nodeNumElement = np.sum(Nodes[nIdx,:])\n",
    "        # Gini index for this node\n",
    "        modeMetric = Func(Nodes[nIdx,:])\n",
    "        # Aggregate weighted sum\n",
    "        totalMetric += (nodeNumElement/totNumElements) * modeMetric\n",
    "    \n",
    "    return totalMetric\n"
   ]
  },
  {
   "cell_type": "markdown",
   "metadata": {},
   "source": [
    "### Defining the data matrix\n",
    "```\n",
    "        | class 1 | class 2  ...\n",
    "----------------------------------\n",
    " node 1 |         |\n",
    " node 2 |         |\n",
    "...\n",
    "```\n",
    "\n",
    "Below we consider a simple example of parent-children binary split"
   ]
  },
  {
   "cell_type": "code",
   "execution_count": 47,
   "metadata": {},
   "outputs": [
    {
     "name": "stdout",
     "output_type": "stream",
     "text": [
      "[[6 6]]\n",
      "\n",
      "[[5 2]\n",
      " [1 4]]\n"
     ]
    }
   ],
   "source": [
    "parentNode = np.array([[6, 6]])\n",
    "print(parentNode)\n",
    "\n",
    "print()\n",
    "\n",
    "childrenNodes = np.array([[5,2],[1,4]])\n",
    "print(childrenNodes)"
   ]
  },
  {
   "cell_type": "markdown",
   "metadata": {},
   "source": [
    "#### Compute Gini Index"
   ]
  },
  {
   "cell_type": "code",
   "execution_count": 32,
   "metadata": {},
   "outputs": [
    {
     "name": "stdout",
     "output_type": "stream",
     "text": [
      "Gini of parent: 0.500000\n",
      "Gini of children: 0.371429\n",
      "0.12857142857142861\n"
     ]
    }
   ],
   "source": [
    "# Compute the gini of the pre and post split\n",
    "giniParent = WeightedNodesAvg(parentNode, GiniIndex)\n",
    "giniChildren = WeightedNodesAvg(childrenNodes, GiniIndex)\n",
    "print(\"Gini of parent: %f\" % giniParent)\n",
    "print(\"Gini of children: %f\" % giniChildren)\n",
    "\n",
    "# Difference in gini\n",
    "print((giniParent - giniChildren))"
   ]
  },
  {
   "cell_type": "markdown",
   "metadata": {},
   "source": [
    "#### Compute entropy"
   ]
  },
  {
   "cell_type": "code",
   "execution_count": 46,
   "metadata": {},
   "outputs": [
    {
     "name": "stdout",
     "output_type": "stream",
     "text": [
      "Entropy of parent: 0.693147\n",
      "Entropy of children: 0.557492\n",
      "\n",
      "Information gain: 0.135656\n",
      "\n",
      "Split info: 0.679193\n",
      "Gain ratio: 0.199730\n"
     ]
    }
   ],
   "source": [
    "entropyParent = WeightedNodesAvg(parentNode, Entropy)\n",
    "entropyChildren = WeightedNodesAvg(childrenNodes, Entropy)\n",
    "print(\"Entropy of parent: %f\" % entropyParent)\n",
    "print(\"Entropy of children: %f\" % entropyChildren)\n",
    "print()\n",
    "\n",
    "# Get the information gain\n",
    "infoGain = entropyParent - entropyChildren\n",
    "print(\"Information gain: %f\" % infoGain)\n",
    "print()\n",
    "\n",
    "# Get the split info\n",
    "split_info = splitInfo(childrenNodes)\n",
    "print(\"Split info: %f\" % split_info)\n",
    "print(\"Gain ratio: %f\" % (infoGain/split_info))"
   ]
  },
  {
   "cell_type": "code",
   "execution_count": null,
   "metadata": {
    "collapsed": true
   },
   "outputs": [],
   "source": []
  }
 ],
 "metadata": {
  "kernelspec": {
   "display_name": "Python 3",
   "language": "python",
   "name": "python3"
  },
  "language_info": {
   "codemirror_mode": {
    "name": "ipython",
    "version": 3
   },
   "file_extension": ".py",
   "mimetype": "text/x-python",
   "name": "python",
   "nbconvert_exporter": "python",
   "pygments_lexer": "ipython3",
   "version": "3.6.3"
  }
 },
 "nbformat": 4,
 "nbformat_minor": 2
}
